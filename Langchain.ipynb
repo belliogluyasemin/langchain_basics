{
 "cells": [
  {
   "cell_type": "code",
   "execution_count": 2,
   "metadata": {},
   "outputs": [],
   "source": [
    "import pandas as pd\n",
    "import pickle\n",
    "import openai\n",
    "import os\n",
    "from google.cloud import secretmanager\n",
    "import matplotlib.pyplot as plt\n",
    "from google.oauth2 import service_account\n",
    "\n",
    "## LANGCHAIN LIBS\n",
    "from langchain_core.prompts import ChatPromptTemplate\n",
    "from langchain_core.output_parsers import StrOutputParser\n",
    "from langchain.agents.agent_types import AgentType\n",
    "from langchain_openai import ChatOpenAI\n",
    "from langchain.chains import ConversationChain\n",
    "from langchain.memory import ConversationSummaryBufferMemory\n",
    "\n",
    "\n"
   ]
  },
  {
   "cell_type": "code",
   "execution_count": 3,
   "id": "314a492e",
   "metadata": {},
   "outputs": [],
   "source": [
    "def get_secret(secret_name, project_id, version_id='1'):\n",
    "    client = secretmanager.SecretManagerServiceClient()\n",
    "    secret_path = f\"projects/{project_id}/secrets/{secret_name}/versions/{version_id}\"\n",
    "    response = client.access_secret_version(name=secret_path)\n",
    "    return response.payload.data.decode('UTF-8')"
   ]
  },
  {
   "cell_type": "code",
   "execution_count": 4,
   "id": "f274d5fe",
   "metadata": {},
   "outputs": [],
   "source": [
    "project_id = \"psychic-root-424207-s9\"\n",
    "openai_api_key = get_secret(\"openai-api-key\", project_id)"
   ]
  },
  {
   "cell_type": "code",
   "execution_count": 27,
   "id": "d6c81046",
   "metadata": {},
   "outputs": [
    {
     "name": "stdout",
     "output_type": "stream",
     "text": [
      "Osmanlı İmparatorluğu, 1299 yılında Osman Gazi tarafından kurulan ve 1922 yılında Türkiye Cumhuriyeti'nin kurulmasıyla son bulan büyük bir imparatorluktur. Osmanlı İmparatorluğu, tarih boyunca Orta Doğu, Balkanlar ve Kuzey Afrika'yı kapsayan geniş bir coğrafyada hüküm sürmüştür. Topkapı Sarayı, Ayasofya Camii ve Selimiye Camii gibi birçok önemli eser bu imparatorluk döneminden kalmadır. Osmanlı İmparatorluğu, siyasi, kültürel ve askeri alanda önemli bir miras bırakmıştır ve dünya tarihinde önemli bir yere sahiptir.\n"
     ]
    }
   ],
   "source": [
    "## define system message and user message\n",
    "\n",
    "output_parser = StrOutputParser()\n",
    "\n",
    "model = ChatOpenAI(openai_api_key = openai_api_key, model = 'gpt-3.5-turbo')\n",
    "\n",
    "prompt_template = ChatPromptTemplate.from_messages([\n",
    "    (\"system\", \"You translater from english to Turkish user {topic}. There for You are the best historian in the worls and what you enjoy most in this life is talking about histroy and answering people's questions.If the question is irrelevant then you can say 'I don't say anything about this because it's not in my proffesion'.And your answers is Turkish\"),\n",
    "    (\"user\", \"{topic}\")\n",
    "])\n",
    "chain = prompt_template | model | output_parser\n",
    "print(chain.invoke({\"topic\": \"Ottomon Empire\"}))"
   ]
  },
  {
   "cell_type": "markdown",
   "id": "daa36fcc",
   "metadata": {},
   "source": [
    "Osmanlı İmparatorluğu, 1299 yılında Osman Gazi tarafından kurulan ve 1922 yılında Türkiye Cumhuriyeti'nin kurulmasıyla son bulan büyük bir imparatorluktur. Osmanlı İmparatorluğu, tarih boyunca Orta Doğu, Balkanlar ve Kuzey Afrika'yı kapsayan geniş bir coğrafyada hüküm sürmüştür. Topkapı Sarayı, Ayasofya Camii ve Selimiye Camii gibi birçok önemli eser bu imparatorluk döneminden kalmadır. Osmanlı İmparatorluğu, siyasi, kültürel ve askeri alanda önemli bir miras bırakmıştır ve dünya tarihinde önemli bir yere sahiptir.\n",
    "\n"
   ]
  },
  {
   "cell_type": "code",
   "execution_count": 29,
   "id": "f7ee9dbd",
   "metadata": {},
   "outputs": [
    {
     "name": "stdout",
     "output_type": "stream",
     "text": [
      "İstanbul, Türkiye'nin en büyük şehri ve tarihi açıdan en önemli merkezlerinden biridir. Şehir, birçok medeniyetin izlerini taşımaktadır ve birçok tarihi yapıya ev sahipliği yapmaktadır. İstanbul'un tarihi, binlerce yıl öncesine dayanmaktadır ve birçok önemli olaya tanıklık etmiştir. Şehir, hem Avrupa hem de Asya kıtalarına yayılan benzersiz coğrafi konumuyla da dikkat çekmektedir. İstanbul'un tarihi hakkında daha fazla bilgi vermek ister misiniz?\n"
     ]
    }
   ],
   "source": [
    "# Get user message with input box\n",
    "\n",
    "output_parser = StrOutputParser()\n",
    "\n",
    "model = ChatOpenAI(openai_api_key = openai_api_key, model = 'gpt-3.5-turbo')\n",
    "\n",
    "memory = ConversationSummaryBufferMemory(llm = model ,max_token_limit = 2000)\n",
    "\n",
    "prompt_template = ChatPromptTemplate.from_messages([\n",
    "    (\"system\", \"You translater from english to Turkish user {topic}. There for You are the best historian in the worls and what you enjoy most in this life is talking about histroy and answering people's questions.If the question is irrelevant then you can say 'I don't say anything about this because it's not in my proffesion'.And your answers is Turkish\"),\n",
    "    (\"user\", \"{topic}\")\n",
    "])\n",
    "chain = prompt_template | model | output_parser\n",
    "\n",
    "user_input = input('Please enter your talk about topic')\n",
    "print(chain.invoke({\"topic\": user_input}))"
   ]
  },
  {
   "cell_type": "code",
   "execution_count": 33,
   "id": "6ce6ba36",
   "metadata": {},
   "outputs": [],
   "source": [
    "import tkinter as tk\n",
    "\n",
    "output_parser = StrOutputParser()\n",
    "\n",
    "model = ChatOpenAI(openai_api_key = openai_api_key, model = 'gpt-3.5-turbo')\n",
    "\n",
    "memory = ConversationSummaryBufferMemory(llm = model ,max_token_limit = 2000)\n",
    "\n",
    "prompt_template = ChatPromptTemplate.from_messages([\n",
    "    (\"system\", \"You translater from english to Turkish user {topic}. There for You are the best historian in the worls and what you enjoy most in this life is talking about histroy and answering people's questions.If the question is irrelevant then you can say 'I don't say anything about this because it's not in my proffesion'.And your answers is Turkish\"),\n",
    "    (\"user\", \"{topic}\")\n",
    "])\n",
    "chain = prompt_template | model | output_parser\n",
    "\n",
    "## Open Question window \n",
    "def process_question():\n",
    "    user_input = entry.get()\n",
    "    result = chain.invoke({\"topic\": user_input})\n",
    "    output_label.config(text = result)\n",
    "# Set up the tkinter window\n",
    "root = tk.Tk()\n",
    "root.title(\"Question Answering\")\n",
    "\n",
    "# Create an input box\n",
    "entry = tk.Entry(root, width=50)\n",
    "entry.pack(pady=10)\n",
    "\n",
    "# Create a button to process the input\n",
    "button = tk.Button(root, text=\"Submit\", command=process_question)\n",
    "button.pack(pady=5)\n",
    "\n",
    "# Label to display the result\n",
    "output_label = tk.Label(root, text=\"\")\n",
    "output_label.pack(pady=20)\n",
    "\n",
    "# Run the tkinter event loop\n",
    "root.mainloop()"
   ]
  }
 ],
 "metadata": {
  "kernelspec": {
   "display_name": "langchain",
   "language": "python",
   "name": "python3"
  },
  "language_info": {
   "codemirror_mode": {
    "name": "ipython",
    "version": 3
   },
   "file_extension": ".py",
   "mimetype": "text/x-python",
   "name": "python",
   "nbconvert_exporter": "python",
   "pygments_lexer": "ipython3",
   "version": "3.12.6"
  }
 },
 "nbformat": 4,
 "nbformat_minor": 5
}
